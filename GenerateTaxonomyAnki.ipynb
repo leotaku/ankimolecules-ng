{
 "cells": [
  {
   "cell_type": "code",
   "execution_count": null,
   "id": "8e9e4329-c41b-49d1-9cc5-6407e8134ed5",
   "metadata": {},
   "outputs": [],
   "source": [
    "%load_ext lab_black"
   ]
  },
  {
   "cell_type": "code",
   "execution_count": null,
   "id": "4e44437c-2bb2-40fc-b825-e0ce40e7f526",
   "metadata": {},
   "outputs": [],
   "source": [
    "import pandas as pd\n",
    "from rdkit.Chem import AllChem, PandasTools, Draw\n",
    "from rdkit.Chem.rdFMCS import FindMCS"
   ]
  },
  {
   "cell_type": "code",
   "execution_count": null,
   "id": "6a6e501d-7031-42b5-bbc0-1e136ae9db71",
   "metadata": {},
   "outputs": [],
   "source": [
    "PandasTools.RenderImagesInAllDataFrames(images=True)"
   ]
  },
  {
   "cell_type": "code",
   "execution_count": null,
   "id": "07396e37-c5d5-4ef6-badc-94593c8c0651",
   "metadata": {},
   "outputs": [],
   "source": [
    "from pathlib import Path\n",
    "from anki_model import DeckSet, DeckNumberer, TaxonomyNote, Package\n",
    "from tqdm.notebook import tqdm"
   ]
  },
  {
   "cell_type": "code",
   "execution_count": null,
   "id": "2f66af05-02dc-4de6-8a63-b958c8987e4d",
   "metadata": {},
   "outputs": [],
   "source": [
    "upstream_url = \"https://docs.google.com/spreadsheets/d/e/2PACX-1vQgbPmrlTty5Q2luk79OigcbyWyQXAQR4xMpxNWJYHwMPpZvGjhBN7wd88vgAyWGMyzwIedvpR4iiNO/pub?output=xlsx\"\n",
    "sheets = pd.read_excel(upstream_url, sheet_name=None, dtype=str, keep_default_na=False)"
   ]
  },
  {
   "cell_type": "code",
   "execution_count": null,
   "id": "62695621-32e6-4899-80fe-cbf92126093d",
   "metadata": {},
   "outputs": [],
   "source": [
    "data = pd.concat(sheets.values())\n",
    "data = data[~data.skip.astype(bool)]\n",
    "data = data.assign(\n",
    "    ROMol_2D=data.pubchemid.replace({\"\": None}).fillna(data.chemblid).map(\n",
    "        lambda it: AllChem.MolFromMolFile(f\"data/{it}_2D.mol\")\n",
    "    )\n",
    ")"
   ]
  },
  {
   "cell_type": "code",
   "execution_count": null,
   "id": "ab012f4b-41ef-4e7b-80af-f6a6a613acc0",
   "metadata": {},
   "outputs": [],
   "source": [
    "def align_all(mols: list[AllChem.Mol]):\n",
    "    mols = list(mols)\n",
    "    template = mols[0]\n",
    "    for mol in mols:\n",
    "        mcs = FindMCS([template, mol], timeout=2)\n",
    "        patt = AllChem.MolFromSmarts(mcs.smartsString)\n",
    "\n",
    "        tpl_match = template.GetSubstructMatch(patt)\n",
    "        mol_match = mol.GetSubstructMatch(patt)\n",
    "\n",
    "        AllChem.Compute2DCoords(mol)\n",
    "        try:\n",
    "            AllChem.AlignMol(mol, template, atomMap=list(zip(mol_match, tpl_match)))\n",
    "        except RuntimeError:\n",
    "            pass\n",
    "\n",
    "        template = mol\n",
    "\n",
    "    return mols"
   ]
  },
  {
   "cell_type": "code",
   "execution_count": null,
   "id": "312d5e49-6bb9-4fc8-b78e-48a0b9b8016c",
   "metadata": {},
   "outputs": [],
   "source": [
    "data_dir = Path(\"data_taxonomy\")\n",
    "data_dir.mkdir(exist_ok=True)"
   ]
  },
  {
   "cell_type": "code",
   "execution_count": null,
   "id": "08855e59-3982-47dd-acbc-bc6a158b91e8",
   "metadata": {},
   "outputs": [],
   "source": [
    "regenerate = True"
   ]
  },
  {
   "cell_type": "code",
   "execution_count": null,
   "id": "18654f5f-5de1-45f5-ba9d-a66847e2084b",
   "metadata": {},
   "outputs": [],
   "source": [
    "decks = DeckSet(\"B15 Pharmazeutische Chemie (Taxonomie)\")\n",
    "deck_numberer = DeckNumberer()"
   ]
  },
  {
   "cell_type": "code",
   "execution_count": null,
   "id": "71235ff6-2530-4160-95c8-1c9ea6a916c7",
   "metadata": {},
   "outputs": [],
   "source": [
    "for i, (clf, group) in enumerate(tqdm(data.groupby(\"classification\", sort=False))):\n",
    "    filename_unlabeled = data_dir.joinpath(f\"{i:03d}_unlabeled.svg\")\n",
    "    filename_labeled = data_dir.joinpath(f\"{i:03d}_labeled.svg\")\n",
    "\n",
    "    if regenerate:\n",
    "        mols = align_all(group.ROMol_2D)\n",
    "\n",
    "        img_unlabeled = Draw.MolsToGridImage(mols, useSVG=True)\n",
    "        filename_unlabeled.write_text(img_unlabeled.data)\n",
    "\n",
    "        img_labeled = Draw.MolsToGridImage(mols, legends=list(group.name), useSVG=True)\n",
    "        filename_labeled.write_text(img_labeled.data)\n",
    "\n",
    "    taxonomy = clf.split(\"::\")\n",
    "    deck_name = deck_numberer.number(taxonomy[0])\n",
    "\n",
    "    decks.add_note(\n",
    "        deck_name,\n",
    "        TaxonomyNote(\n",
    "            taxonomy=taxonomy,\n",
    "            file_unlabeled=filename_unlabeled.name,\n",
    "            file_labeled=filename_labeled.name,\n",
    "        ),\n",
    "    )"
   ]
  },
  {
   "cell_type": "code",
   "execution_count": null,
   "id": "aa018242-bc11-4bb4-8e74-245504ad8b40",
   "metadata": {},
   "outputs": [],
   "source": [
    "Package(\n",
    "    deck_or_decks=decks.to_list(), media_files=data_dir.glob(\"*.svg\")\n",
    ").write_to_file(data_dir.joinpath(f\"{decks.root_deck_name}.apkg\"))"
   ]
  }
 ],
 "metadata": {
  "kernelspec": {
   "display_name": "Python 3 (ipykernel)",
   "language": "python",
   "name": "python3"
  },
  "language_info": {
   "codemirror_mode": {
    "name": "ipython",
    "version": 3
   },
   "file_extension": ".py",
   "mimetype": "text/x-python",
   "name": "python",
   "nbconvert_exporter": "python",
   "pygments_lexer": "ipython3",
   "version": "3.11.7"
  }
 },
 "nbformat": 4,
 "nbformat_minor": 5
}
